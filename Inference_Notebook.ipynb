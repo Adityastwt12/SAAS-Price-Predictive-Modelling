{
  "nbformat": 4,
  "nbformat_minor": 0,
  "metadata": {
    "colab": {
      "provenance": []
    },
    "kernelspec": {
      "name": "python3",
      "display_name": "Python 3"
    },
    "language_info": {
      "name": "python"
    }
  },
  "cells": [
    {
      "cell_type": "markdown",
      "source": [
        "**IMPORTING THE NECCESARY LIBRARIES**"
      ],
      "metadata": {
        "id": "MYL3HmEZg_oL"
      }
    },
    {
      "cell_type": "code",
      "source": [
        "import pandas as pd\n",
        "import numpy as np\n",
        "import joblib"
      ],
      "metadata": {
        "id": "sYb3QFKNhG_n"
      },
      "execution_count": 1,
      "outputs": []
    },
    {
      "cell_type": "markdown",
      "source": [
        "**MODEL LOADING**"
      ],
      "metadata": {
        "id": "7LWJRsYthLqB"
      }
    },
    {
      "cell_type": "code",
      "source": [
        "xgb_model = joblib.load('/content/saas_price_predictor_xgb.pkl')\n"
      ],
      "metadata": {
        "id": "auXuBWeVhPE6"
      },
      "execution_count": 6,
      "outputs": []
    },
    {
      "cell_type": "markdown",
      "source": [
        "**FUNCTION TO PREPROCESS USER INPUT & ENCODING THE CATEGORICAL FEATURES,REQUIRED FOR MODEL INFERENCE**"
      ],
      "metadata": {
        "id": "bSViATEQhj5z"
      }
    },
    {
      "cell_type": "code",
      "source": [
        "\n",
        "def preprocess_input(user_input):\n",
        "\n",
        "\n",
        "    original_columns = ['revenueMultiple', 'totalRevenueAnnual', 'team',\n",
        "       'revenue', 'annualProfit', 'growthAnnual', 'weeklyViews', 'businessAge',\n",
        "       'location_Argentina', 'location_Australia', 'location_Austria',\n",
        "       'location_Belgium', 'location_Canada', 'location_Estonia',\n",
        "       'location_France', 'location_Germany', 'location_India',\n",
        "       'location_Latvia', 'location_Mexico', 'location_Singapore',\n",
        "       'location_Spain', 'location_Switzerland', 'location_Turkey',\n",
        "       'location_Ukraine', 'location_United Kingdom', 'location_United States',\n",
        "       'keywords_Analytics', 'keywords_Automation', 'keywords_E-Commerce',\n",
        "       'keywords_EdTech', 'keywords_Enterprise', 'keywords_Entertainment',\n",
        "       'keywords_Finance', 'keywords_FundRaiser', 'keywords_Games',\n",
        "       'keywords_HRTech', 'keywords_HealthCare', 'keywords_Loyalty',\n",
        "       'keywords_Management', 'keywords_Marketing', 'keywords_Mobile App',\n",
        "       'keywords_SEO', 'keywords_Sales', 'keywords_Security',\n",
        "       'keywords_Servers', 'keywords_Technology', 'keywords_Telecommunication',\n",
        "       'keywords_Web Tools', 'keywords_Workforce ',\n",
        "       'techStack_ Cloud and DBMS', 'techStack_BackEnd',\n",
        "       'techStack_BackEnd and Cloud',\n",
        "       'techStack_Backend and DBMS', 'techStack_Cloud',\n",
        "       'techStack_CyberSecurity', 'techStack_DBMS', 'techStack_FrontEnd',\n",
        "       'techStack_FrontEnd and Cloud', 'techStack_FullStack',\n",
        "       'techStack_FullStack and Cloud', 'techStack_FullStack and DBMS',\n",
        "       'techStack_Not Listed', 'listingType_platinum', 'listingType_premium',\n",
        "       'customers_10-100', 'customers_100-1000', 'customers_1000-10000',\n",
        "       'customers_10000-100000', 'customers_more than 100000']\n",
        "\n",
        "    input_data = pd.DataFrame(columns=original_columns)\n",
        "\n",
        "    for col in ['revenueMultiple', 'totalRevenueAnnual', 'team', 'revenue', 'annualProfit', 'growthAnnual', 'weeklyViews','businessAge']:\n",
        "        input_data.at[0, col] = user_input.get(col, 0)\n",
        "\n",
        "    for col in original_columns:\n",
        "        if col.startswith('location_') or col.startswith('keywords_') or col.startswith('techStack_') or col.startswith('listingType_') or col.startswith('customers_'):\n",
        "            input_data.at[0, col] = 0\n",
        "\n",
        "    if 'location' in user_input:\n",
        "        input_data.at[0, f\"location_{user_input['location']}\"] = 1\n",
        "    if 'keywords' in user_input:\n",
        "        input_data.at[0, f\"keywords_{user_input['keywords']}\"] = 1\n",
        "    if 'techStack' in user_input:\n",
        "        input_data.at[0, f\"techStack_{user_input['techStack']}\"] = 1\n",
        "    if 'listingType' in user_input:\n",
        "        input_data.at[0, f\"listingType_{user_input['listingType']}\"] = 1\n",
        "    if 'customers' in user_input:\n",
        "        input_data.at[0, f\"customers_{user_input['customers']}\"] = 1\n",
        "\n",
        "    input_data = input_data.apply(pd.to_numeric, errors='coerce')\n",
        "\n",
        "    return input_data"
      ],
      "metadata": {
        "id": "H6QxGx65hVJe"
      },
      "execution_count": 7,
      "outputs": []
    },
    {
      "cell_type": "markdown",
      "source": [
        "**INFERENCE FUNCTION**"
      ],
      "metadata": {
        "id": "bzfPo2oqh9Hr"
      }
    },
    {
      "cell_type": "code",
      "source": [
        "def predict_asking_price(user_input):\n",
        "\n",
        "    processed_input = preprocess_input(user_input)\n",
        "    predicted_price = xgb_model.predict(processed_input)\n",
        "\n",
        "    return predicted_price[0]"
      ],
      "metadata": {
        "id": "TBy_uHD1h4yd"
      },
      "execution_count": 8,
      "outputs": []
    },
    {
      "cell_type": "markdown",
      "source": [
        "**SAMPLE TEST OF TRAINED MODEL**"
      ],
      "metadata": {
        "id": "A5KuDCqjiQMm"
      }
    },
    {
      "cell_type": "code",
      "source": [
        "user_input = {\n",
        "    'revenueMultiple': 11.085633,\n",
        "    'totalRevenueAnnual': 596005,\n",
        "    'team': 8,\n",
        "    'listingType':'platinum',\n",
        "    'revenue': 411238.250173,\n",
        "    'customers': '100-1000',\n",
        "    'annualProfit': 7459,\n",
        "    'growthAnnual': 125.167142,\n",
        "    'weeklyViews': 6,\n",
        "    'businessAge': 5.128171,\n",
        "    'location': 'United States',\n",
        "    'keywords': 'HealthCare',\n",
        "    'techStack': 'FullStack and Cloud',\n",
        "}\n",
        "\n",
        "# Predict the asking price\n",
        "predicted_price = predict_asking_price(user_input)\n",
        "print(f\"Predicted Asking Price: ${predicted_price:.2f}\")\n"
      ],
      "metadata": {
        "colab": {
          "base_uri": "https://localhost:8080/"
        },
        "id": "Fh6J9QsniJdH",
        "outputId": "11bf4840-b7d8-4cba-b853-3577dd0bf5b1"
      },
      "execution_count": 9,
      "outputs": [
        {
          "output_type": "stream",
          "name": "stdout",
          "text": [
            "Predicted Asking Price: $3701370.00\n"
          ]
        }
      ]
    }
  ]
}
